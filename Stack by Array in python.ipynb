{
 "cells": [
  {
   "cell_type": "code",
   "execution_count": 1,
   "id": "69585ec6",
   "metadata": {},
   "outputs": [
    {
     "name": "stdout",
     "output_type": "stream",
     "text": [
      "Current Stack: [1, 2, 3]\n",
      "Top Item: 3\n",
      "Popped Item: 3\n",
      "Current Stack after pop: [1, 2]\n",
      "Stack Size: 2\n",
      "Is Stack Empty? False\n"
     ]
    }
   ],
   "source": [
    "stack = []  \n",
    "\n",
    "def push(item):    \n",
    "    stack.append(item)  \n",
    "\n",
    "def pop():  \n",
    "    if not is_empty():  \n",
    "        return stack.pop()  \n",
    "    else:  \n",
    "        raise IndexError(\"pop from an empty stack\")  \n",
    "\n",
    "def peek():   \n",
    "    if not is_empty():  \n",
    "        return stack[-1]  \n",
    "    else:  \n",
    "        raise IndexError(\"peek from an empty stack\")  \n",
    "\n",
    "def is_empty():   \n",
    "    return len(stack) == 0  \n",
    "\n",
    "def size():   \n",
    "    return len(stack)  \n",
    "\n",
    "# Example usage  \n",
    "if __name__ == \"__main__\":  \n",
    "    push(1)  \n",
    "    push(2)  \n",
    "    push(3)  \n",
    "    \n",
    "    print(\"Current Stack:\", stack)   \n",
    "    \n",
    "    print(\"Top Item:\", peek())    \n",
    "    print(\"Popped Item:\", pop())   \n",
    "    print(\"Current Stack after pop:\", stack)   \n",
    "    \n",
    "    print(\"Stack Size:\", size())   \n",
    "    print(\"Is Stack Empty?\", is_empty())  "
   ]
  },
  {
   "cell_type": "code",
   "execution_count": null,
   "id": "425fb246",
   "metadata": {},
   "outputs": [],
   "source": []
  }
 ],
 "metadata": {
  "kernelspec": {
   "display_name": "Python 3 (ipykernel)",
   "language": "python",
   "name": "python3"
  },
  "language_info": {
   "codemirror_mode": {
    "name": "ipython",
    "version": 3
   },
   "file_extension": ".py",
   "mimetype": "text/x-python",
   "name": "python",
   "nbconvert_exporter": "python",
   "pygments_lexer": "ipython3",
   "version": "3.9.13"
  }
 },
 "nbformat": 4,
 "nbformat_minor": 5
}
